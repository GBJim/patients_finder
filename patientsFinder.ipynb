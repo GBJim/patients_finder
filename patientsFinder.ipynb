{
 "cells": [
  {
   "cell_type": "code",
   "execution_count": 1,
   "metadata": {
    "collapsed": true
   },
   "outputs": [],
   "source": [
    "from pymongo import MongoClient\n",
    "from idCrawler import *"
   ]
  },
  {
   "cell_type": "code",
   "execution_count": 39,
   "metadata": {
    "collapsed": false
   },
   "outputs": [],
   "source": [
    "def profilesVerity(targets, matchers):\n",
    "    positive_profiles = []\n",
    "    for target in targets:\n",
    "        description = target['description'].lower()\n",
    "        if verify(description, matchers, []):\n",
    "            positive_profiles.append(target)\n",
    "\n",
    "    return positive_profiles\n",
    "\n",
    "def verify(text, matchers, de_matchers):\n",
    "\tfor de_mactcher in de_matchers:\n",
    "\t\t\tif de_mactcher in text:\n",
    "\t\t\t\treturn False\n",
    "\n",
    "\tfor matcher in matchers:\n",
    "\t\t\tif matcher in text:\n",
    "\t\t\t\treturn True\n",
    "\treturn False \n",
    "\n",
    "\n",
    "def targetDetection(collectionName, matchers, de_mactchers):\n",
    "\tpositive_profiles = []\n",
    "\tcollection = MongoClient('localhost', 27017)['idea'][collectionName]\n",
    "\tfor profile in collection.find():\n",
    "\t\tdescription = profile['description'].lower()\n",
    "\t\tif verify(description, matchers, de_mactchers):\n",
    "\t\t\tpositive_profiles.append(profile)\n",
    "\n",
    "\treturn positive_profiles\n",
    "\n"
   ]
  },
  {
   "cell_type": "code",
   "execution_count": 78,
   "metadata": {
    "collapsed": false
   },
   "outputs": [],
   "source": [
    "matchers = [\"bpd\", \"borderline\"]\n",
    "targets = targetDetection('suspecious_profiles', matchers, [])\n",
    "matchers = ['support','coach','therapist','specialize', \"counsellor\",\"author\", \"group\",\"clinician\",\"doctor\",\"famous\", \"popular\"]\n",
    "targets = profilesVerity(targets, matchers)\n"
   ]
  },
  {
   "cell_type": "code",
   "execution_count": 79,
   "metadata": {
    "collapsed": false
   },
   "outputs": [
    {
     "data": {
      "text/plain": [
       "84"
      ]
     },
     "execution_count": 79,
     "metadata": {},
     "output_type": "execute_result"
    }
   ],
   "source": [
    "len(targets)\n",
    "#targets[7][\"description\"]"
   ]
  },
  {
   "cell_type": "code",
   "execution_count": 80,
   "metadata": {
    "collapsed": false
   },
   "outputs": [],
   "source": [
    "w = open('therapists_descriptions.tsv', 'w')\n",
    "for profile in targets:\n",
    "    user_id = profile['id']\n",
    "    description = profile['description'].replace(\"\\t\",\"\").replace(\"\\n\",\"\").replace(\"\\r\",\"\")\n",
    "    w.write(\"\\t{}\\t{}\\n\".format(description,user_id))\n",
    "w.close()"
   ]
  },
  {
   "cell_type": "code",
   "execution_count": 12,
   "metadata": {
    "collapsed": false
   },
   "outputs": [
    {
     "data": {
      "text/plain": [
       "'aa'"
      ]
     },
     "execution_count": 12,
     "metadata": {},
     "output_type": "execute_result"
    }
   ],
   "source": [
    "\"a\\ta\".replace('\\t','')"
   ]
  },
  {
   "cell_type": "code",
   "execution_count": 21,
   "metadata": {
    "collapsed": false
   },
   "outputs": [],
   "source": [
    "x = targets[2]['description'].replace(\"\\t\",\"\").replace(\"\\n\",\"\").replace(\"\\r\",\"\")"
   ]
  },
  {
   "cell_type": "code",
   "execution_count": 25,
   "metadata": {
    "collapsed": false
   },
   "outputs": [
    {
     "data": {
      "text/plain": [
       "\"Hey, I'm Lucy, nearly 23 and I blog on my journey to recovery with complex PTSD/BPD. Look forward to chatting to people :) xx\""
      ]
     },
     "execution_count": 25,
     "metadata": {},
     "output_type": "execute_result"
    }
   ],
   "source": [
    "x"
   ]
  },
  {
   "cell_type": "code",
   "execution_count": null,
   "metadata": {
    "collapsed": true
   },
   "outputs": [],
   "source": []
  }
 ],
 "metadata": {
  "kernelspec": {
   "display_name": "Python 3",
   "language": "python",
   "name": "python3"
  },
  "language_info": {
   "codemirror_mode": {
    "name": "ipython",
    "version": 3
   },
   "file_extension": ".py",
   "mimetype": "text/x-python",
   "name": "python",
   "nbconvert_exporter": "python",
   "pygments_lexer": "ipython3",
   "version": "3.4.0"
  }
 },
 "nbformat": 4,
 "nbformat_minor": 0
}
